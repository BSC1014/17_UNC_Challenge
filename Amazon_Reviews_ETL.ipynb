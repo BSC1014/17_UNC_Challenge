{
  "cells": [
    {
      "cell_type": "code",
      "execution_count": 1,
      "metadata": {
        "colab": {
          "base_uri": "https://localhost:8080/"
        },
        "id": "V58rxea0HqSa",
        "outputId": "182617d7-c0e3-4aa0-e3bb-a33c1bec93cc"
      },
      "outputs": [
        {
          "output_type": "stream",
          "name": "stdout",
          "text": [
            "Get:1 https://cloud.r-project.org/bin/linux/ubuntu bionic-cran40/ InRelease [3,626 B]\n",
            "Ign:2 https://developer.download.nvidia.com/compute/machine-learning/repos/ubuntu1804/x86_64  InRelease\n",
            "Hit:3 https://developer.download.nvidia.com/compute/cuda/repos/ubuntu1804/x86_64  InRelease\n",
            "Hit:4 https://developer.download.nvidia.com/compute/machine-learning/repos/ubuntu1804/x86_64  Release\n",
            "Hit:5 http://ppa.launchpad.net/c2d4u.team/c2d4u4.0+/ubuntu bionic InRelease\n",
            "Hit:6 http://archive.ubuntu.com/ubuntu bionic InRelease\n",
            "Get:7 http://security.ubuntu.com/ubuntu bionic-security InRelease [88.7 kB]\n",
            "Get:8 http://archive.ubuntu.com/ubuntu bionic-updates InRelease [88.7 kB]\n",
            "Hit:10 http://ppa.launchpad.net/cran/libgit2/ubuntu bionic InRelease\n",
            "Hit:11 http://ppa.launchpad.net/deadsnakes/ppa/ubuntu bionic InRelease\n",
            "Get:12 http://archive.ubuntu.com/ubuntu bionic-backports InRelease [83.3 kB]\n",
            "Get:13 http://ppa.launchpad.net/graphics-drivers/ppa/ubuntu bionic InRelease [21.3 kB]\n",
            "Get:14 http://security.ubuntu.com/ubuntu bionic-security/universe amd64 Packages [1,573 kB]\n",
            "Get:15 http://archive.ubuntu.com/ubuntu bionic-updates/multiverse amd64 Packages [30.9 kB]\n",
            "Get:16 http://archive.ubuntu.com/ubuntu bionic-updates/main amd64 Packages [3,549 kB]\n",
            "Get:17 http://security.ubuntu.com/ubuntu bionic-security/main amd64 Packages [3,127 kB]\n",
            "Get:18 http://ppa.launchpad.net/graphics-drivers/ppa/ubuntu bionic/main amd64 Packages [43.2 kB]\n",
            "Get:19 http://security.ubuntu.com/ubuntu bionic-security/restricted amd64 Packages [1,349 kB]\n",
            "Get:20 http://archive.ubuntu.com/ubuntu bionic-updates/restricted amd64 Packages [1,389 kB]\n",
            "Get:21 http://archive.ubuntu.com/ubuntu bionic-updates/universe amd64 Packages [2,348 kB]\n",
            "Fetched 13.7 MB in 6s (2,470 kB/s)\n",
            "Reading package lists... Done\n"
          ]
        }
      ],
      "source": [
        "import os\n",
        "# Find the latest version of spark 3.2 from http://www.apache.org/dist/spark/ and enter as the spark version\n",
        "# For example:\n",
        "# spark_version = 'spark-3.2.3'\n",
        "spark_version = 'spark-3.2.3'\n",
        "os.environ['SPARK_VERSION']=spark_version\n",
        "\n",
        "# Install Spark and Java\n",
        "!apt-get update\n",
        "!apt-get install openjdk-11-jdk-headless -qq > /dev/null\n",
        "!wget -q http://www.apache.org/dist/spark/$SPARK_VERSION/$SPARK_VERSION-bin-hadoop2.7.tgz\n",
        "!tar xf $SPARK_VERSION-bin-hadoop2.7.tgz\n",
        "!pip install -q findspark\n",
        "\n",
        "# Set Environment Variables\n",
        "import os\n",
        "os.environ[\"JAVA_HOME\"] = \"/usr/lib/jvm/java-11-openjdk-amd64\"\n",
        "os.environ[\"SPARK_HOME\"] = f\"/content/{spark_version}-bin-hadoop2.7\"\n",
        "\n",
        "# Start a SparkSession\n",
        "import findspark\n",
        "findspark.init()"
      ]
    },
    {
      "cell_type": "code",
      "execution_count": 2,
      "metadata": {
        "colab": {
          "base_uri": "https://localhost:8080/"
        },
        "id": "_xKwTpATHqSe",
        "outputId": "e62cbba1-5e23-460f-83f6-1c69a36c495b"
      },
      "outputs": [
        {
          "output_type": "stream",
          "name": "stdout",
          "text": [
            "--2023-01-07 21:29:57--  https://jdbc.postgresql.org/download/postgresql-42.2.16.jar\n",
            "Resolving jdbc.postgresql.org (jdbc.postgresql.org)... 72.32.157.228, 2001:4800:3e1:1::228\n",
            "Connecting to jdbc.postgresql.org (jdbc.postgresql.org)|72.32.157.228|:443... connected.\n",
            "HTTP request sent, awaiting response... 200 OK\n",
            "Length: 1002883 (979K) [application/java-archive]\n",
            "Saving to: ‘postgresql-42.2.16.jar’\n",
            "\n",
            "postgresql-42.2.16. 100%[===================>] 979.38K  1.18MB/s    in 0.8s    \n",
            "\n",
            "2023-01-07 21:29:59 (1.18 MB/s) - ‘postgresql-42.2.16.jar’ saved [1002883/1002883]\n",
            "\n"
          ]
        }
      ],
      "source": [
        "# Download the Postgres driver that will allow Spark to interact with Postgres.\n",
        "!wget https://jdbc.postgresql.org/download/postgresql-42.2.16.jar"
      ]
    },
    {
      "cell_type": "code",
      "execution_count": 3,
      "metadata": {
        "id": "MMqDAjVS0KN9"
      },
      "outputs": [],
      "source": [
        "from pyspark.sql import SparkSession\n",
        "spark = SparkSession.builder.appName(\"M17-Amazon-Challenge\").config(\"spark.driver.extraClassPath\",\"/content/postgresql-42.2.16.jar\").getOrCreate()"
      ]
    },
    {
      "cell_type": "markdown",
      "metadata": {
        "id": "cyBsySGuY-9V"
      },
      "source": [
        "### Load Amazon Data into Spark DataFrame"
      ]
    },
    {
      "cell_type": "code",
      "execution_count": 6,
      "metadata": {
        "id": "CtCmBhQJY-9Z",
        "colab": {
          "base_uri": "https://localhost:8080/"
        },
        "outputId": "73cbc5a6-5e14-408e-9091-7fd25f18547f"
      },
      "outputs": [
        {
          "output_type": "stream",
          "name": "stdout",
          "text": [
            "+-----------+-----------+--------------+----------+--------------+--------------------+----------------+-----------+-------------+-----------+----+-----------------+--------------------+--------------------+-----------+\n",
            "|marketplace|customer_id|     review_id|product_id|product_parent|       product_title|product_category|star_rating|helpful_votes|total_votes|vine|verified_purchase|     review_headline|         review_body|review_date|\n",
            "+-----------+-----------+--------------+----------+--------------+--------------------+----------------+-----------+-------------+-----------+----+-----------------+--------------------+--------------------+-----------+\n",
            "|         US|   36075342| RAB23OVFNCXZQ|B00LPRXQ4Y|     339193102|17\" 2003-2006 For...|      Automotive|          1|            0|          0|   N|                Y|     As it was used,|As it was used, t...| 2015-08-31|\n",
            "|         US|   42462164|R3NORADVJO6IE6|B000C7S0TO|     907684644|Spectra Premium C...|      Automotive|          5|            0|          0|   N|                Y|          Five Stars|Put it in fine, n...| 2015-08-31|\n",
            "|         US|   21241933|R299F4SO98S5OO|B000CO9WE4|     752246352|K&N E-4665 High P...|      Automotive|          5|            1|          1|   N|                Y|Great fit and per...|Fit wonderfully o...| 2015-08-31|\n",
            "|         US|   52570308|R2DA9DOT03UW6I|B000GKD5NI|     105401756|Suncutters Rear W...|      Automotive|          5|            2|          3|   N|                Y|Good for the pric...|Good for the pric...| 2015-08-31|\n",
            "|         US|   38200102|R2OGCH681EQHU6|B009SDA7TE|     728471129|Lug Nuts Landcrui...|      Automotive|          5|            0|          0|   N|                Y|          Five Stars|Fit perfectly on ...| 2015-08-31|\n",
            "|         US|   34866169| R2JMKIC16MHD7|B00KV15KRG|     962286893|Fits 2007-2009 Ho...|      Automotive|          5|            2|          2|   N|                Y|Fit Well and Bett...|Product fits well...| 2015-08-31|\n",
            "|         US|     184627|R1DB5DA7CWWTI8|B0002JMAKW|     267002949|Castrol 12614 Dot...|      Automotive|          5|            0|          0|   N|                Y|convenient, fast ...|convenient ,fast ...| 2015-08-31|\n",
            "|         US|    2975964|R1N8XWFDK4QACP|B00XJKMM6S|     570789093|New Power Window ...|      Automotive|          5|            0|          0|   N|                Y|          Five Stars|             is good| 2015-08-31|\n",
            "|         US|   40946484|R19VFLX6MRU0CX|B000C5CEKC|     389524802|Motorad MGC-791 L...|      Automotive|          5|            0|          0|   N|                Y|GOOD deal.  Great...|wonderful.  if yo...| 2015-08-31|\n",
            "|         US|   12554469| RLTD8YDGTP9PT|B00GD9R2A8|      21425394|Genuine Ford AL3Z...|      Automotive|          1|            0|          0|   N|                Y|Does not fit my F...|Does not work wit...| 2015-08-31|\n",
            "|         US|   35335277| R78B5LCFJ52SR|B00RM327NG|     816815445|Air Vent Smartpho...|      Automotive|          4|            0|          0|   N|                Y|            Not bad!|I really loved th...| 2015-08-31|\n",
            "|         US|   44957003|R33SKWL0HEQIQ9|B0071NL7UQ|     192225755|FDJ New Replaceme...|      Automotive|          5|            0|          0|   N|                Y|          Five Stars| Just what I wanted.| 2015-08-31|\n",
            "|         US|     444125|R1HIOV0UX7P13D|B00DSOL0FY|     849414056|Omix-Ada 17402.09...|      Automotive|          5|            0|          0|   N|                Y|          Five Stars|Great product and...| 2015-08-31|\n",
            "|         US|   35829199| R4WS0E0MSP9DH|B00GRV48TK|     651316983|GMB 530-2480 Fuel...|      Automotive|          5|            2|          2|   N|                Y|           Well made|Appears to be wel...| 2015-08-31|\n",
            "|         US|   16825098| R2RUIDUMDKG7P|B000E4PCGE|     694793259|00-03 NISSAN SENT...|      Automotive|          3|            0|          0|   N|                Y|new and a great l...|Product was as de...| 2015-08-31|\n",
            "|         US|    2583392| RZSA6L4M4D4XA|B005Z8HAUK|     732072782|Slime 40026 2X He...|      Automotive|          5|            0|          0|   N|                Y|          Five Stars|SO much quieter t...| 2015-08-31|\n",
            "|         US|   10127903|R1O3NGQNCFXKR6|B0043AV4NK|     533179941|MegaBrand N1 4\" B...|      Automotive|          5|            0|          0|   N|                Y|              decent|Great for the pri...| 2015-08-31|\n",
            "|         US|   17937309|R2IEM66RCBJ95A|B00CDHD76C|     126169507|Jackly 45-in-One ...|      Automotive|          5|            0|          0|   N|                Y|Nice set of tools...|Nice set of tools...| 2015-08-31|\n",
            "|         US|   17145638|R2BQ9O517KSCP8|B000CF1XO0|     475232737|Bosch 3397118942 ...|      Automotive|          5|            0|          0|   N|                N|          Five Stars|       Everything ok| 2015-08-31|\n",
            "|         US|   32813839|R1KF86427VR7AC|B003VLBPJA|     897802619|Heavy-Duty 15\" Ca...|      Automotive|          3|            0|          0|   N|                Y|         Three Stars|I hope the hooks ...| 2015-08-31|\n",
            "+-----------+-----------+--------------+----------+--------------+--------------------+----------------+-----------+-------------+-----------+----+-----------------+--------------------+--------------------+-----------+\n",
            "only showing top 20 rows\n",
            "\n"
          ]
        }
      ],
      "source": [
        "from pyspark import SparkFiles\n",
        "url = \"https://s3.amazonaws.com/amazon-reviews-pds/tsv/amazon_reviews_us_Automotive_v1_00.tsv.gz\"\n",
        "spark.sparkContext.addFile(url)\n",
        "df = spark.read.option(\"encoding\", \"UTF-8\").csv(SparkFiles.get(\"\"), sep=\"\\t\", header=True, inferSchema=True)\n",
        "df.show()"
      ]
    },
    {
      "cell_type": "markdown",
      "metadata": {
        "id": "2yUSe55VY-9t"
      },
      "source": [
        "### Create DataFrames to match tables"
      ]
    },
    {
      "cell_type": "code",
      "execution_count": 7,
      "metadata": {
        "id": "C8REmY1aY-9u",
        "colab": {
          "base_uri": "https://localhost:8080/"
        },
        "outputId": "bd6ccb04-0079-4c9e-cef0-9946381c76b3"
      },
      "outputs": [
        {
          "output_type": "stream",
          "name": "stdout",
          "text": [
            "+-----------+-----------+--------------+----------+--------------+--------------------+----------------+-----------+-------------+-----------+----+-----------------+--------------------+--------------------+-----------+\n",
            "|marketplace|customer_id|     review_id|product_id|product_parent|       product_title|product_category|star_rating|helpful_votes|total_votes|vine|verified_purchase|     review_headline|         review_body|review_date|\n",
            "+-----------+-----------+--------------+----------+--------------+--------------------+----------------+-----------+-------------+-----------+----+-----------------+--------------------+--------------------+-----------+\n",
            "|         US|   36075342| RAB23OVFNCXZQ|B00LPRXQ4Y|     339193102|17\" 2003-2006 For...|      Automotive|          1|            0|          0|   N|                Y|     As it was used,|As it was used, t...| 2015-08-31|\n",
            "|         US|   42462164|R3NORADVJO6IE6|B000C7S0TO|     907684644|Spectra Premium C...|      Automotive|          5|            0|          0|   N|                Y|          Five Stars|Put it in fine, n...| 2015-08-31|\n",
            "|         US|   21241933|R299F4SO98S5OO|B000CO9WE4|     752246352|K&N E-4665 High P...|      Automotive|          5|            1|          1|   N|                Y|Great fit and per...|Fit wonderfully o...| 2015-08-31|\n",
            "|         US|   52570308|R2DA9DOT03UW6I|B000GKD5NI|     105401756|Suncutters Rear W...|      Automotive|          5|            2|          3|   N|                Y|Good for the pric...|Good for the pric...| 2015-08-31|\n",
            "|         US|   38200102|R2OGCH681EQHU6|B009SDA7TE|     728471129|Lug Nuts Landcrui...|      Automotive|          5|            0|          0|   N|                Y|          Five Stars|Fit perfectly on ...| 2015-08-31|\n",
            "+-----------+-----------+--------------+----------+--------------+--------------------+----------------+-----------+-------------+-----------+----+-----------------+--------------------+--------------------+-----------+\n",
            "only showing top 5 rows\n",
            "\n"
          ]
        }
      ],
      "source": [
        "from pyspark.sql.functions import to_date\n",
        "# Read in the Review dataset as a DataFrame\n",
        "df.show(5)"
      ]
    },
    {
      "cell_type": "code",
      "execution_count": 9,
      "metadata": {
        "id": "B0TESUDRY-90",
        "colab": {
          "base_uri": "https://localhost:8080/"
        },
        "outputId": "a7e1e44c-d52f-4b21-e71c-9d67a0698597"
      },
      "outputs": [
        {
          "output_type": "stream",
          "name": "stdout",
          "text": [
            "+-----------+--------------+\n",
            "|customer_id|customer_count|\n",
            "+-----------+--------------+\n",
            "|   28258386|             3|\n",
            "|   18634862|             3|\n",
            "|    2072312|             3|\n",
            "|   33132797|            15|\n",
            "|   14539137|             1|\n",
            "|   14552054|             5|\n",
            "|    9347763|             1|\n",
            "|   43626894|             2|\n",
            "|   27314089|            51|\n",
            "|   36829268|             1|\n",
            "|   24540309|             2|\n",
            "|    8501205|             1|\n",
            "|    4361670|             2|\n",
            "|   30416085|             2|\n",
            "|    8306731|             1|\n",
            "|   11491871|             1|\n",
            "|   46406103|             1|\n",
            "|   18417791|             2|\n",
            "|   51299913|             1|\n",
            "|   20587872|             4|\n",
            "+-----------+--------------+\n",
            "only showing top 20 rows\n",
            "\n"
          ]
        }
      ],
      "source": [
        "# Create the customers_table DataFrame\n",
        "# customers_df = df.groupby(\"\").agg({\"\"}).withColumnRenamed(\"\", \"customer_count\")\n",
        "customers_df = df.groupby(\"customer_id\").agg({\"customer_id\":\"count\"}).withColumnRenamed(\"count(customer_id)\", \"customer_count\")\n",
        "customers_df.show(20)"
      ]
    },
    {
      "cell_type": "code",
      "execution_count": 10,
      "metadata": {
        "id": "4FwXA6UvY-96",
        "colab": {
          "base_uri": "https://localhost:8080/"
        },
        "outputId": "5bdb1983-14e7-4f4e-c402-4737ba3cdad5"
      },
      "outputs": [
        {
          "output_type": "stream",
          "name": "stdout",
          "text": [
            "+----------+--------------------+\n",
            "|product_id|       product_title|\n",
            "+----------+--------------------+\n",
            "|006056038X|        Bitter Truth|\n",
            "|007876355X|Skylanders Giants...|\n",
            "|0078764343|Medal of Honor: W...|\n",
            "|0133617300|Disney Infinity F...|\n",
            "|0182116255|2-Pack Black Plas...|\n",
            "|0226739368|Into the Cool: En...|\n",
            "|0324411812|  Xbox 360 MAS STICK|\n",
            "|0439394422|school house rock...|\n",
            "|0439573947|Need for Speed Ra...|\n",
            "|0439574447|Thomas & Friends ...|\n",
            "|0439591511|Zapper- One Wicke...|\n",
            "|0439591538|Nancy Drew 3D Int...|\n",
            "|0439674492|Mario Paint & Sup...|\n",
            "|0439715571|     Mortal Kombat 4|\n",
            "|0439862108|Narnia the Lion, ...|\n",
            "|0439905419|Sid Meier's Pirat...|\n",
            "|0538966610|Activision Skylan...|\n",
            "|0609808095|The Book of Elean...|\n",
            "|0662476565|Sony Playstation ...|\n",
            "|0700026657|           Anno 2070|\n",
            "+----------+--------------------+\n",
            "only showing top 20 rows\n",
            "\n"
          ]
        }
      ],
      "source": [
        "# Create the products_table DataFrame and drop duplicates. \n",
        "# products_df = df.select([]).drop_duplicates()\n",
        "products_df = df.select([\"product_id\",\"product_title\"]).drop_duplicates([\"product_id\"])\n",
        "products_df.show(20)"
      ]
    },
    {
      "cell_type": "code",
      "execution_count": 11,
      "metadata": {
        "id": "MkqyCuNQY-9-",
        "colab": {
          "base_uri": "https://localhost:8080/"
        },
        "outputId": "d0c4c4b7-2e3c-4b45-b49f-3e1123747d72"
      },
      "outputs": [
        {
          "output_type": "stream",
          "name": "stdout",
          "text": [
            "+--------------+-----------+----------+--------------+-----------+\n",
            "|     review_id|customer_id|product_id|product_parent|review_date|\n",
            "+--------------+-----------+----------+--------------+-----------+\n",
            "| RAB23OVFNCXZQ|   36075342|B00LPRXQ4Y|     339193102| 2015-08-31|\n",
            "|R3NORADVJO6IE6|   42462164|B000C7S0TO|     907684644| 2015-08-31|\n",
            "|R299F4SO98S5OO|   21241933|B000CO9WE4|     752246352| 2015-08-31|\n",
            "|R2DA9DOT03UW6I|   52570308|B000GKD5NI|     105401756| 2015-08-31|\n",
            "|R2OGCH681EQHU6|   38200102|B009SDA7TE|     728471129| 2015-08-31|\n",
            "| R2JMKIC16MHD7|   34866169|B00KV15KRG|     962286893| 2015-08-31|\n",
            "|R1DB5DA7CWWTI8|     184627|B0002JMAKW|     267002949| 2015-08-31|\n",
            "|R1N8XWFDK4QACP|    2975964|B00XJKMM6S|     570789093| 2015-08-31|\n",
            "|R19VFLX6MRU0CX|   40946484|B000C5CEKC|     389524802| 2015-08-31|\n",
            "| RLTD8YDGTP9PT|   12554469|B00GD9R2A8|      21425394| 2015-08-31|\n",
            "| R78B5LCFJ52SR|   35335277|B00RM327NG|     816815445| 2015-08-31|\n",
            "|R33SKWL0HEQIQ9|   44957003|B0071NL7UQ|     192225755| 2015-08-31|\n",
            "|R1HIOV0UX7P13D|     444125|B00DSOL0FY|     849414056| 2015-08-31|\n",
            "| R4WS0E0MSP9DH|   35829199|B00GRV48TK|     651316983| 2015-08-31|\n",
            "| R2RUIDUMDKG7P|   16825098|B000E4PCGE|     694793259| 2015-08-31|\n",
            "| RZSA6L4M4D4XA|    2583392|B005Z8HAUK|     732072782| 2015-08-31|\n",
            "|R1O3NGQNCFXKR6|   10127903|B0043AV4NK|     533179941| 2015-08-31|\n",
            "|R2IEM66RCBJ95A|   17937309|B00CDHD76C|     126169507| 2015-08-31|\n",
            "|R2BQ9O517KSCP8|   17145638|B000CF1XO0|     475232737| 2015-08-31|\n",
            "|R1KF86427VR7AC|   32813839|B003VLBPJA|     897802619| 2015-08-31|\n",
            "+--------------+-----------+----------+--------------+-----------+\n",
            "only showing top 20 rows\n",
            "\n"
          ]
        }
      ],
      "source": [
        "# Create the review_id_table DataFrame. \n",
        "# Convert the 'review_date' column to a date datatype with to_date(\"review_date\", 'yyyy-MM-dd').alias(\"review_date\")\n",
        "# review_id_df = df.select([, to_date(\"review_date\", 'yyyy-MM-dd').alias(\"review_date\")])\n",
        "review_id_df = df.select([\"review_id\", \"customer_id\", \"product_id\", \"product_parent\", to_date(\"review_date\", 'yyyy-MM-dd').alias(\"review_date\")])\n",
        "review_id_df.show(20)"
      ]
    },
    {
      "cell_type": "code",
      "execution_count": 12,
      "metadata": {
        "id": "lzMmkdKmY--D",
        "colab": {
          "base_uri": "https://localhost:8080/"
        },
        "outputId": "263f2781-d35e-43cc-fb45-2be21e232f57"
      },
      "outputs": [
        {
          "output_type": "stream",
          "name": "stdout",
          "text": [
            "+--------------+-----------+-------------+-----------+----+-----------------+\n",
            "|     review_id|star_rating|helpful_votes|total_votes|vine|verified_purchase|\n",
            "+--------------+-----------+-------------+-----------+----+-----------------+\n",
            "| RAB23OVFNCXZQ|          1|            0|          0|   N|                Y|\n",
            "|R3NORADVJO6IE6|          5|            0|          0|   N|                Y|\n",
            "|R299F4SO98S5OO|          5|            1|          1|   N|                Y|\n",
            "|R2DA9DOT03UW6I|          5|            2|          3|   N|                Y|\n",
            "|R2OGCH681EQHU6|          5|            0|          0|   N|                Y|\n",
            "| R2JMKIC16MHD7|          5|            2|          2|   N|                Y|\n",
            "|R1DB5DA7CWWTI8|          5|            0|          0|   N|                Y|\n",
            "|R1N8XWFDK4QACP|          5|            0|          0|   N|                Y|\n",
            "|R19VFLX6MRU0CX|          5|            0|          0|   N|                Y|\n",
            "| RLTD8YDGTP9PT|          1|            0|          0|   N|                Y|\n",
            "| R78B5LCFJ52SR|          4|            0|          0|   N|                Y|\n",
            "|R33SKWL0HEQIQ9|          5|            0|          0|   N|                Y|\n",
            "|R1HIOV0UX7P13D|          5|            0|          0|   N|                Y|\n",
            "| R4WS0E0MSP9DH|          5|            2|          2|   N|                Y|\n",
            "| R2RUIDUMDKG7P|          3|            0|          0|   N|                Y|\n",
            "| RZSA6L4M4D4XA|          5|            0|          0|   N|                Y|\n",
            "|R1O3NGQNCFXKR6|          5|            0|          0|   N|                Y|\n",
            "|R2IEM66RCBJ95A|          5|            0|          0|   N|                Y|\n",
            "|R2BQ9O517KSCP8|          5|            0|          0|   N|                N|\n",
            "|R1KF86427VR7AC|          3|            0|          0|   N|                Y|\n",
            "+--------------+-----------+-------------+-----------+----+-----------------+\n",
            "only showing top 20 rows\n",
            "\n"
          ]
        }
      ],
      "source": [
        "# Create the vine_table. DataFrame\n",
        "# vine_df = df.select([])\n",
        "vine_df = df.select([\"review_id\", \"star_rating\", \"helpful_votes\", \"total_votes\", \"vine\", \"verified_purchase\"])\n",
        "vine_df.show(20)"
      ]
    },
    {
      "cell_type": "markdown",
      "metadata": {
        "id": "jITZhLkmY--J"
      },
      "source": [
        "### Connect to the AWS RDS instance and write each DataFrame to its table. "
      ]
    },
    {
      "cell_type": "code",
      "execution_count": 15,
      "metadata": {
        "id": "7jiUvs1aY--L"
      },
      "outputs": [],
      "source": [
        "# Configure settings for RDS\n",
        "mode = \"append\"\n",
        "jdbc_url=\"jdbc:postgresql://datviz.cqzahfylus4e.us-east-1.rds.amazonaws.com:5432/postgres\"\n",
        "config = {\"user\":\"postgres\", \n",
        "          \"password\": \"uncclass\", \n",
        "          \"driver\":\"org.postgresql.Driver\"}"
      ]
    },
    {
      "cell_type": "code",
      "execution_count": 16,
      "metadata": {
        "id": "T2zgZ-aKY--Q"
      },
      "outputs": [],
      "source": [
        "# Write review_id_df to table in RDS\n",
        "review_id_df.write.jdbc(url=jdbc_url, table='review_id_table', mode=mode, properties=config)"
      ]
    },
    {
      "cell_type": "code",
      "execution_count": 17,
      "metadata": {
        "id": "1m3yzn-LY--U"
      },
      "outputs": [],
      "source": [
        "# Write products_df to table in RDS\n",
        "# about 3 min\n",
        "products_df.write.jdbc(url=jdbc_url, table='products_table', mode=mode, properties=config)"
      ]
    },
    {
      "cell_type": "code",
      "execution_count": 18,
      "metadata": {
        "id": "KbXri15fY--Z"
      },
      "outputs": [],
      "source": [
        "# Write customers_df to table in RDS\n",
        "# 5 min 14 s\n",
        "customers_df.write.jdbc(url=jdbc_url, table='customers_table', mode=mode, properties=config)"
      ]
    },
    {
      "cell_type": "code",
      "execution_count": 19,
      "metadata": {
        "id": "XdQknSHLY--e"
      },
      "outputs": [],
      "source": [
        "# Write vine_df to table in RDS\n",
        "# 11 minutes\n",
        "vine_df.write.jdbc(url=jdbc_url, table='vine_table', mode=mode, properties=config)"
      ]
    },
    {
      "cell_type": "code",
      "execution_count": null,
      "metadata": {
        "id": "Exuo6ebUsCqW"
      },
      "outputs": [],
      "source": []
    }
  ],
  "metadata": {
    "colab": {
      "provenance": []
    },
    "kernelspec": {
      "display_name": "Python 3 (ipykernel)",
      "language": "python",
      "name": "python3"
    },
    "language_info": {
      "codemirror_mode": {
        "name": "ipython",
        "version": 3
      },
      "file_extension": ".py",
      "mimetype": "text/x-python",
      "name": "python",
      "nbconvert_exporter": "python",
      "pygments_lexer": "ipython3",
      "version": "3.8.13"
    },
    "nteract": {
      "version": "0.12.3"
    }
  },
  "nbformat": 4,
  "nbformat_minor": 0
}